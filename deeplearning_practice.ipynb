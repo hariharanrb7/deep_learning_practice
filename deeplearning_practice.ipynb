{
  "nbformat": 4,
  "nbformat_minor": 0,
  "metadata": {
    "colab": {
      "provenance": []
    },
    "kernelspec": {
      "name": "python3",
      "display_name": "Python 3"
    },
    "language_info": {
      "name": "python"
    }
  },
  "cells": [
    {
      "cell_type": "code",
      "execution_count": null,
      "metadata": {
        "colab": {
          "base_uri": "https://localhost:8080/"
        },
        "id": "Hj8ZvY2uv5Tr",
        "outputId": "83d93d9b-5f6a-4e13-ed66-f4c745565210"
      },
      "outputs": [
        {
          "output_type": "stream",
          "name": "stdout",
          "text": [
            "Epoch 1/10\n",
            "\u001b[1m200/200\u001b[0m \u001b[32m━━━━━━━━━━━━━━━━━━━━\u001b[0m\u001b[37m\u001b[0m \u001b[1m3s\u001b[0m 7ms/step - accuracy: 0.5615 - loss: 2.6461\n",
            "Epoch 2/10\n",
            "\u001b[1m200/200\u001b[0m \u001b[32m━━━━━━━━━━━━━━━━━━━━\u001b[0m\u001b[37m\u001b[0m \u001b[1m0s\u001b[0m 2ms/step - accuracy: 0.7400 - loss: 0.5184\n",
            "Epoch 3/10\n",
            "\u001b[1m200/200\u001b[0m \u001b[32m━━━━━━━━━━━━━━━━━━━━\u001b[0m\u001b[37m\u001b[0m \u001b[1m3s\u001b[0m 13ms/step - accuracy: 0.8114 - loss: 0.4378\n",
            "Epoch 4/10\n",
            "\u001b[1m200/200\u001b[0m \u001b[32m━━━━━━━━━━━━━━━━━━━━\u001b[0m\u001b[37m\u001b[0m \u001b[1m0s\u001b[0m 2ms/step - accuracy: 0.8722 - loss: 0.3827\n",
            "Epoch 5/10\n",
            "\u001b[1m200/200\u001b[0m \u001b[32m━━━━━━━━━━━━━━━━━━━━\u001b[0m\u001b[37m\u001b[0m \u001b[1m1s\u001b[0m 2ms/step - accuracy: 0.9046 - loss: 0.3265\n",
            "Epoch 6/10\n",
            "\u001b[1m200/200\u001b[0m \u001b[32m━━━━━━━━━━━━━━━━━━━━\u001b[0m\u001b[37m\u001b[0m \u001b[1m1s\u001b[0m 3ms/step - accuracy: 0.9123 - loss: 0.2753\n",
            "Epoch 7/10\n",
            "\u001b[1m200/200\u001b[0m \u001b[32m━━━━━━━━━━━━━━━━━━━━\u001b[0m\u001b[37m\u001b[0m \u001b[1m0s\u001b[0m 2ms/step - accuracy: 0.9306 - loss: 0.2475\n",
            "Epoch 8/10\n",
            "\u001b[1m200/200\u001b[0m \u001b[32m━━━━━━━━━━━━━━━━━━━━\u001b[0m\u001b[37m\u001b[0m \u001b[1m0s\u001b[0m 2ms/step - accuracy: 0.9487 - loss: 0.2148\n",
            "Epoch 9/10\n",
            "\u001b[1m200/200\u001b[0m \u001b[32m━━━━━━━━━━━━━━━━━━━━\u001b[0m\u001b[37m\u001b[0m \u001b[1m2s\u001b[0m 11ms/step - accuracy: 0.9471 - loss: 0.1941\n",
            "Epoch 10/10\n",
            "\u001b[1m200/200\u001b[0m \u001b[32m━━━━━━━━━━━━━━━━━━━━\u001b[0m\u001b[37m\u001b[0m \u001b[1m1s\u001b[0m 2ms/step - accuracy: 0.9549 - loss: 0.1563\n"
          ]
        }
      ],
      "source": [
        "#creating dataset and traning artificial neural network\n",
        "\n",
        "import keras\n",
        "from keras.models import Sequential\n",
        "from keras.layers import Dense\n",
        "from keras.optimizers import Adam\n",
        "import numpy as np\n",
        "from sklearn.preprocessing import MinMaxScaler\n",
        "train_sample =[]\n",
        "train_label  = []\n",
        "for i in range(1000):\n",
        "    young_people = np.random.randint(13,64)\n",
        "    train_sample.append(young_people)\n",
        "    train_label.append(0)\n",
        "\n",
        "    old_people = np.random.randint(65,100)\n",
        "    train_sample.append(old_people)\n",
        "    train_label.append(1)\n",
        "train_sample=np.array(train_sample)\n",
        "train_label=np.array(train_label)\n",
        "\n",
        "scaled=MinMaxScaler(feature_range=(0,1))\n",
        "scaled_train_sample = scaled.fit_transform(train_sample.reshape(-1,1))\n",
        "\n",
        "model = Sequential([Dense(16,input_dim=1,activation='relu'),Dense(32,activation='relu'),Dense(2,activation='softmax')])\n",
        "model.compile(Adam(learning_rate=0.001),loss='sparse_categorical_crossentropy',metrics=['accuracy'])\n",
        "model.fit(train_sample,train_label,batch_size=10,epochs=10)\n",
        "\n",
        "test_sample =[]\n",
        "test_label  = []\n",
        "for i in range(500):\n",
        "    young_people = np.random.randint(13,64)\n",
        "    test_sample.append(young_people)\n",
        "    test_label.append(0)\n",
        "\n",
        "    old_people = np.random.randint(65,100)\n",
        "    test_sample.append(old_people)\n",
        "    test_label.append(1)\n",
        "test_sample=np.array(test_sample)\n",
        "test_label=np.array(test_label)\n",
        "\n"
      ]
    },
    {
      "cell_type": "code",
      "source": [
        "# Predicting class labels\n",
        "predictions = model.predict(test_sample, batch_size=10)\n",
        "predicted_classes = np.argmax(predictions, axis=1)\n"
      ],
      "metadata": {
        "colab": {
          "base_uri": "https://localhost:8080/"
        },
        "id": "DKkFdQKQ2ssX",
        "outputId": "1c000dab-cdd9-4f25-a19c-09dbb55f8bb5"
      },
      "execution_count": null,
      "outputs": [
        {
          "output_type": "stream",
          "name": "stdout",
          "text": [
            "\u001b[1m100/100\u001b[0m \u001b[32m━━━━━━━━━━━━━━━━━━━━\u001b[0m\u001b[37m\u001b[0m \u001b[1m0s\u001b[0m 2ms/step\n"
          ]
        }
      ]
    },
    {
      "cell_type": "code",
      "source": [
        "from sklearn.metrics import confusion_matrix\n",
        "predictedvalue = confusion_matrix(test_label,predicted_classes)\n",
        "print(predictedvalue)\n",
        "# 439 / 500 =  accurate, 61 and 0 diagonal shows how many wrong predictions here there is 61 wrong predictions"
      ],
      "metadata": {
        "colab": {
          "base_uri": "https://localhost:8080/"
        },
        "id": "5DVzx78n2yZU",
        "outputId": "69df1357-54dd-4a34-8e27-63879bc1f43b"
      },
      "execution_count": null,
      "outputs": [
        {
          "output_type": "stream",
          "name": "stdout",
          "text": [
            "[[439  61]\n",
            " [  0 500]]\n"
          ]
        }
      ]
    },
    {
      "cell_type": "code",
      "source": [],
      "metadata": {
        "id": "EmEHm-DabQ8D"
      },
      "execution_count": null,
      "outputs": []
    }
  ]
}